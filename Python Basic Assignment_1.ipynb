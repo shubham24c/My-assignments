{
 "cells": [
  {
   "cell_type": "markdown",
   "id": "cc18cb4c",
   "metadata": {},
   "source": [
    "# Assignment 1"
   ]
  },
  {
   "cell_type": "markdown",
   "id": "4bbc830b",
   "metadata": {},
   "source": [
    " 1. In the below elements which of them are values or an expression? eg:- values can be integer or string and expressions will be mathematical operators.\n",
    " * \n",
    "'hello'\n",
    "-87.8\n",
    "- \n",
    "/ \n",
    "+\t\n",
    "6 \n"
   ]
  },
  {
   "cell_type": "markdown",
   "id": "02966293",
   "metadata": {},
   "source": [
    "* - / and + are expressions where as \"hello\" -87.8 and 6 are values"
   ]
  },
  {
   "cell_type": "markdown",
   "id": "503ef3cf",
   "metadata": {},
   "source": [
    "2. What is the difference between string and variable?"
   ]
  },
  {
   "cell_type": "markdown",
   "id": "c9172d9e",
   "metadata": {},
   "source": [
    "String is defined as a data type which is a sequence of chartacter enclosed in single/double inverted commas considered as text\n",
    "where as variable can be defined as a storage to store/assign different data types such as integer,strings,floating points number,complex numbers and boolens"
   ]
  },
  {
   "cell_type": "markdown",
   "id": "56c02d7c",
   "metadata": {},
   "source": [
    "3. Describe three different data types."
   ]
  },
  {
   "cell_type": "markdown",
   "id": "46d82948",
   "metadata": {},
   "source": [
    "three data types-\n",
    "1 Integer-it is a representation of real numbers\n",
    "2 string-its a sequence of characters\n",
    "3-floating point-its a represention of decimal numbers"
   ]
  },
  {
   "cell_type": "markdown",
   "id": "1ca54e2e",
   "metadata": {},
   "source": [
    "4. What is an expression made up of? What do all expressions do?"
   ]
  },
  {
   "cell_type": "markdown",
   "id": "6bce3cc3",
   "metadata": {},
   "source": [
    "Expression is made up with combination of different different operatorsand there is role is to provide some sort of values/results"
   ]
  },
  {
   "cell_type": "markdown",
   "id": "7539a0fb",
   "metadata": {},
   "source": [
    "5. This assignment statements, like spam = 10. What is the difference between an expression and a statement?"
   ]
  },
  {
   "cell_type": "markdown",
   "id": "f29f1b50",
   "metadata": {},
   "source": [
    "Here spam is a variable = is a operator/expression and 10 is a integer number\n",
    "\n",
    "The difference between expression & statement is that expression is a mathematical operator where as statement is a combination of data types variables and expressions"
   ]
  },
  {
   "cell_type": "markdown",
   "id": "7ae4c123",
   "metadata": {},
   "source": [
    "6. After running the following code, what does the variable bacon contain?\n",
    "   bacon = 22\n",
    "   bacon + 1\n"
   ]
  },
  {
   "cell_type": "code",
   "execution_count": 1,
   "id": "9576193c",
   "metadata": {},
   "outputs": [
    {
     "data": {
      "text/plain": [
       "23"
      ]
     },
     "execution_count": 1,
     "metadata": {},
     "output_type": "execute_result"
    }
   ],
   "source": [
    "bacon = 22\n",
    "bacon + 1"
   ]
  },
  {
   "cell_type": "code",
   "execution_count": 2,
   "id": "40647d36",
   "metadata": {},
   "outputs": [
    {
     "data": {
      "text/plain": [
       "22"
      ]
     },
     "execution_count": 2,
     "metadata": {},
     "output_type": "execute_result"
    }
   ],
   "source": [
    "bacon # bacon will conatin 22 since its a variable where 22 is assigned to it"
   ]
  },
  {
   "cell_type": "markdown",
   "id": "30950c3d",
   "metadata": {},
   "source": [
    "7. What should the values of the following two terms be?\n",
    "'spam' + 'spamspam'\n",
    "'spam' * 3"
   ]
  },
  {
   "cell_type": "code",
   "execution_count": 3,
   "id": "8753446e",
   "metadata": {},
   "outputs": [
    {
     "data": {
      "text/plain": [
       "'spamspamspam'"
      ]
     },
     "execution_count": 3,
     "metadata": {},
     "output_type": "execute_result"
    }
   ],
   "source": [
    "'spam'+'spamspam' # we can perform addition two strings"
   ]
  },
  {
   "cell_type": "code",
   "execution_count": 4,
   "id": "480eff12",
   "metadata": {},
   "outputs": [
    {
     "data": {
      "text/plain": [
       "'spamspamspam'"
      ]
     },
     "execution_count": 4,
     "metadata": {},
     "output_type": "execute_result"
    }
   ],
   "source": [
    "'spam'*3 # here \"spam\" string is multiplyed by 3"
   ]
  },
  {
   "cell_type": "markdown",
   "id": "ee68b69a",
   "metadata": {},
   "source": [
    "8. Why is eggs a valid variable name while 100 is invalid?"
   ]
  },
  {
   "cell_type": "code",
   "execution_count": 5,
   "id": "1377ff24",
   "metadata": {},
   "outputs": [
    {
     "ename": "SyntaxError",
     "evalue": "cannot assign to literal (Temp/ipykernel_11348/3901475374.py, line 1)",
     "output_type": "error",
     "traceback": [
      "\u001b[1;36m  File \u001b[1;32m\"C:\\Users\\shubh\\AppData\\Local\\Temp/ipykernel_11348/3901475374.py\"\u001b[1;36m, line \u001b[1;32m1\u001b[0m\n\u001b[1;33m    100=\"shubham\"\u001b[0m\n\u001b[1;37m    ^\u001b[0m\n\u001b[1;31mSyntaxError\u001b[0m\u001b[1;31m:\u001b[0m cannot assign to literal\n"
     ]
    }
   ],
   "source": [
    "100=\"shubham\" # 100 cannot be variable name because its an integer and variable name cannot be a number "
   ]
  },
  {
   "cell_type": "code",
   "execution_count": 7,
   "id": "fa987516",
   "metadata": {},
   "outputs": [],
   "source": [
    "egg=\"shubham\" # egg is valid variable name since its a string literal"
   ]
  },
  {
   "cell_type": "code",
   "execution_count": 8,
   "id": "37523622",
   "metadata": {},
   "outputs": [
    {
     "data": {
      "text/plain": [
       "'shubham'"
      ]
     },
     "execution_count": 8,
     "metadata": {},
     "output_type": "execute_result"
    }
   ],
   "source": [
    "egg"
   ]
  },
  {
   "cell_type": "markdown",
   "id": "4b8d3541",
   "metadata": {},
   "source": [
    "9. What three functions can be used to get the integer, floating-point number, or string version of a value?"
   ]
  },
  {
   "cell_type": "markdown",
   "id": "c4b3cc3c",
   "metadata": {},
   "source": [
    "three function are as follows:\n",
    "1-int()\n",
    "2-str()\n",
    "3-float()\n",
    "examples-"
   ]
  },
  {
   "cell_type": "code",
   "execution_count": 10,
   "id": "c66d1e1a",
   "metadata": {},
   "outputs": [],
   "source": [
    "a=\"shubham\"\n",
    "b=7\n",
    "c=7.7"
   ]
  },
  {
   "cell_type": "code",
   "execution_count": 14,
   "id": "84abb151",
   "metadata": {},
   "outputs": [
    {
     "data": {
      "text/plain": [
       "'7'"
      ]
     },
     "execution_count": 14,
     "metadata": {},
     "output_type": "execute_result"
    }
   ],
   "source": [
    "str(b)"
   ]
  },
  {
   "cell_type": "code",
   "execution_count": 15,
   "id": "bce90d23",
   "metadata": {},
   "outputs": [
    {
     "data": {
      "text/plain": [
       "7"
      ]
     },
     "execution_count": 15,
     "metadata": {},
     "output_type": "execute_result"
    }
   ],
   "source": [
    "int(c)"
   ]
  },
  {
   "cell_type": "code",
   "execution_count": 17,
   "id": "1c2e9f39",
   "metadata": {},
   "outputs": [
    {
     "data": {
      "text/plain": [
       "7.0"
      ]
     },
     "execution_count": 17,
     "metadata": {},
     "output_type": "execute_result"
    }
   ],
   "source": [
    "float(b)"
   ]
  },
  {
   "cell_type": "markdown",
   "id": "293e5bfd",
   "metadata": {},
   "source": [
    "10. Why does this expression cause an error? How can you fix it?\n",
    "   'I have eaten ' + 99 + ' burritos.'\n"
   ]
  },
  {
   "cell_type": "code",
   "execution_count": 19,
   "id": "638114c3",
   "metadata": {},
   "outputs": [
    {
     "ename": "TypeError",
     "evalue": "can only concatenate str (not \"int\") to str",
     "output_type": "error",
     "traceback": [
      "\u001b[1;31m---------------------------------------------------------------------------\u001b[0m",
      "\u001b[1;31mTypeError\u001b[0m                                 Traceback (most recent call last)",
      "\u001b[1;32m~\\AppData\\Local\\Temp/ipykernel_11348/1774935878.py\u001b[0m in \u001b[0;36m<module>\u001b[1;34m\u001b[0m\n\u001b[1;32m----> 1\u001b[1;33m \u001b[1;34m'I have eaten '\u001b[0m \u001b[1;33m+\u001b[0m \u001b[1;36m99\u001b[0m \u001b[1;33m+\u001b[0m \u001b[1;34m' burritos.'\u001b[0m\u001b[1;33m\u001b[0m\u001b[1;33m\u001b[0m\u001b[0m\n\u001b[0m",
      "\u001b[1;31mTypeError\u001b[0m: can only concatenate str (not \"int\") to str"
     ]
    }
   ],
   "source": [
    "'I have eaten ' + 99 + ' burritos.' # its showing error because we cannot add string with integer data type"
   ]
  },
  {
   "cell_type": "markdown",
   "id": "5793bcfb",
   "metadata": {},
   "source": [
    "correct code will be"
   ]
  },
  {
   "cell_type": "code",
   "execution_count": 20,
   "id": "6ea30223",
   "metadata": {},
   "outputs": [
    {
     "data": {
      "text/plain": [
       "'I have eaten 99 burritos.'"
      ]
     },
     "execution_count": 20,
     "metadata": {},
     "output_type": "execute_result"
    }
   ],
   "source": [
    "'I have eaten ' + '99' + ' burritos.'"
   ]
  },
  {
   "cell_type": "code",
   "execution_count": null,
   "id": "83bcf4db",
   "metadata": {},
   "outputs": [],
   "source": []
  }
 ],
 "metadata": {
  "kernelspec": {
   "display_name": "Python 3 (ipykernel)",
   "language": "python",
   "name": "python3"
  },
  "language_info": {
   "codemirror_mode": {
    "name": "ipython",
    "version": 3
   },
   "file_extension": ".py",
   "mimetype": "text/x-python",
   "name": "python",
   "nbconvert_exporter": "python",
   "pygments_lexer": "ipython3",
   "version": "3.9.7"
  }
 },
 "nbformat": 4,
 "nbformat_minor": 5
}
